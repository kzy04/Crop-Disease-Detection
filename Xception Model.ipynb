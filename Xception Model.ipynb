{
 "cells": [
  {
   "cell_type": "code",
   "execution_count": 1,
   "id": "4f93d765-44ce-4131-9b2c-bc1b17518a9f",
   "metadata": {},
   "outputs": [],
   "source": [
    "import matplotlib.pyplot as plt\n",
    "import numpy as np\n",
    "import os\n",
    "import PIL\n",
    "import tensorflow as tf\n",
    "from tensorflow import keras\n",
    "from tensorflow.keras import layers\n",
    "from tensorflow.python.keras.layers import Dense, Flatten\n",
    "from tensorflow.keras.models import Sequential\n",
    "from tensorflow.keras.optimizers import Adam"
   ]
  },
  {
   "cell_type": "code",
   "execution_count": 2,
   "id": "527eeb09-d370-4cf8-91bd-0609b69fae5e",
   "metadata": {},
   "outputs": [
    {
     "name": "stdout",
     "output_type": "stream",
     "text": [
      "Found 54305 files belonging to 38 classes.\n",
      "Using 43444 files for training.\n"
     ]
    }
   ],
   "source": [
    "training_set = tf.keras.utils.image_dataset_from_directory(\n",
    "    'color',\n",
    "    labels=\"inferred\",\n",
    "    label_mode=\"categorical\",\n",
    "    class_names=None,\n",
    "    color_mode=\"rgb\",\n",
    "    batch_size=32,\n",
    "    image_size=(128, 128),\n",
    "    shuffle=True,\n",
    "    seed=200,\n",
    "    validation_split=0.2,  # Keep for data split during loading\n",
    "    subset=\"training\"\n",
    ")"
   ]
  },
  {
   "cell_type": "code",
   "execution_count": 3,
   "id": "26f7ff62-0243-4175-aea7-e89e6f9949f1",
   "metadata": {},
   "outputs": [
    {
     "name": "stdout",
     "output_type": "stream",
     "text": [
      "Found 54305 files belonging to 38 classes.\n",
      "Using 10861 files for validation.\n"
     ]
    }
   ],
   "source": [
    "validation_set = tf.keras.utils.image_dataset_from_directory(\n",
    "    'color',\n",
    "    labels=\"inferred\",\n",
    "    label_mode=\"categorical\",\n",
    "    class_names=None,\n",
    "    color_mode=\"rgb\",\n",
    "    batch_size=32,\n",
    "    image_size=(128, 128),\n",
    "    shuffle=True,\n",
    "    seed=200,\n",
    "    validation_split=0.2,  # Keep for data split during loading\n",
    "    subset=\"validation\"\n",
    ")"
   ]
  },
  {
   "cell_type": "code",
   "execution_count": 4,
   "id": "50bbb7c6-a794-40b4-9f99-47100fab745e",
   "metadata": {},
   "outputs": [
    {
     "name": "stdout",
     "output_type": "stream",
     "text": [
      "['Apple___Apple_scab', 'Apple___Black_rot', 'Apple___Cedar_apple_rust', 'Apple___healthy', 'Blueberry___healthy', 'Cherry_(including_sour)___Powdery_mildew', 'Cherry_(including_sour)___healthy', 'Corn_(maize)___Cercospora_leaf_spot Gray_leaf_spot', 'Corn_(maize)___Common_rust_', 'Corn_(maize)___Northern_Leaf_Blight', 'Corn_(maize)___healthy', 'Grape___Black_rot', 'Grape___Esca_(Black_Measles)', 'Grape___Leaf_blight_(Isariopsis_Leaf_Spot)', 'Grape___healthy', 'Orange___Haunglongbing_(Citrus_greening)', 'Peach___Bacterial_spot', 'Peach___healthy', 'Pepper,_bell___Bacterial_spot', 'Pepper,_bell___healthy', 'Potato___Early_blight', 'Potato___Late_blight', 'Potato___healthy', 'Raspberry___healthy', 'Soybean___healthy', 'Squash___Powdery_mildew', 'Strawberry___Leaf_scorch', 'Strawberry___healthy', 'Tomato___Bacterial_spot', 'Tomato___Early_blight', 'Tomato___Late_blight', 'Tomato___Leaf_Mold', 'Tomato___Septoria_leaf_spot', 'Tomato___Spider_mites Two-spotted_spider_mite', 'Tomato___Target_Spot', 'Tomato___Tomato_Yellow_Leaf_Curl_Virus', 'Tomato___Tomato_mosaic_virus', 'Tomato___healthy']\n"
     ]
    }
   ],
   "source": [
    "print(training_set.class_names)"
   ]
  },
  {
   "cell_type": "code",
   "execution_count": 5,
   "id": "6d70ddb8-72c4-4b9c-8f73-e5ad85a677a0",
   "metadata": {},
   "outputs": [
    {
     "name": "stdout",
     "output_type": "stream",
     "text": [
      "['Apple___Apple_scab', 'Apple___Black_rot', 'Apple___Cedar_apple_rust', 'Apple___healthy', 'Blueberry___healthy', 'Cherry_(including_sour)___Powdery_mildew', 'Cherry_(including_sour)___healthy', 'Corn_(maize)___Cercospora_leaf_spot Gray_leaf_spot', 'Corn_(maize)___Common_rust_', 'Corn_(maize)___Northern_Leaf_Blight', 'Corn_(maize)___healthy', 'Grape___Black_rot', 'Grape___Esca_(Black_Measles)', 'Grape___Leaf_blight_(Isariopsis_Leaf_Spot)', 'Grape___healthy', 'Orange___Haunglongbing_(Citrus_greening)', 'Peach___Bacterial_spot', 'Peach___healthy', 'Pepper,_bell___Bacterial_spot', 'Pepper,_bell___healthy', 'Potato___Early_blight', 'Potato___Late_blight', 'Potato___healthy', 'Raspberry___healthy', 'Soybean___healthy', 'Squash___Powdery_mildew', 'Strawberry___Leaf_scorch', 'Strawberry___healthy', 'Tomato___Bacterial_spot', 'Tomato___Early_blight', 'Tomato___Late_blight', 'Tomato___Leaf_Mold', 'Tomato___Septoria_leaf_spot', 'Tomato___Spider_mites Two-spotted_spider_mite', 'Tomato___Target_Spot', 'Tomato___Tomato_Yellow_Leaf_Curl_Virus', 'Tomato___Tomato_mosaic_virus', 'Tomato___healthy']\n"
     ]
    }
   ],
   "source": [
    "print(validation_set.class_names)"
   ]
  },
  {
   "cell_type": "markdown",
   "id": "342526d1-f24b-4365-b16b-920d85138d93",
   "metadata": {},
   "source": [
    "## Model Building"
   ]
  },
  {
   "cell_type": "code",
   "execution_count": 7,
   "id": "8dfa6f5b-955f-4523-9429-f8296507654d",
   "metadata": {},
   "outputs": [],
   "source": [
    "xception_model = tf.keras.models.Sequential()\n",
    "pretrained_model = keras.applications.Xception(\n",
    "    include_top=False,\n",
    "    weights=\"imagenet\",\n",
    "    input_shape=(128,128,3),\n",
    "    pooling=\"avg\",\n",
    "    classes=38,\n",
    ")\n",
    "\n",
    "for layer in pretrained_model.layers:\n",
    "    layer.trainable = False\n",
    "\n",
    "xception_model.add(pretrained_model)\n",
    "xception_model.add(tf.keras.layers.Flatten())\n",
    "xception_model.add(tf.keras.layers.Dense(512, activation=\"relu\"))\n",
    "xception_model.add(tf.keras.layers.Dense(units=38, activation=\"softmax\"))    "
   ]
  },
  {
   "cell_type": "code",
   "execution_count": 8,
   "id": "de69939a-c4bf-4895-98a2-85ab53052ad6",
   "metadata": {},
   "outputs": [
    {
     "name": "stdout",
     "output_type": "stream",
     "text": [
      "Model: \"sequential_1\"\n",
      "_________________________________________________________________\n",
      " Layer (type)                Output Shape              Param #   \n",
      "=================================================================\n",
      " xception (Functional)       (None, 2048)              20861480  \n",
      "                                                                 \n",
      " flatten (Flatten)           (None, 2048)              0         \n",
      "                                                                 \n",
      " dense (Dense)               (None, 512)               1049088   \n",
      "                                                                 \n",
      " dense_1 (Dense)             (None, 38)                19494     \n",
      "                                                                 \n",
      "=================================================================\n",
      "Total params: 21,930,062\n",
      "Trainable params: 1,068,582\n",
      "Non-trainable params: 20,861,480\n",
      "_________________________________________________________________\n"
     ]
    }
   ],
   "source": [
    "xception_model.summary()"
   ]
  },
  {
   "cell_type": "code",
   "execution_count": 9,
   "id": "96034fa0-2323-4aca-b84d-829015635f03",
   "metadata": {},
   "outputs": [],
   "source": [
    "xception_model.compile(optimizer=tf.keras.optimizers.legacy.Adam(\n",
    "    learning_rate=0.0001),loss='categorical_crossentropy',metrics=['accuracy'])"
   ]
  },
  {
   "cell_type": "code",
   "execution_count": 11,
   "id": "8b4c0ab0-26c4-4291-aced-16364340e4a2",
   "metadata": {},
   "outputs": [
    {
     "name": "stdout",
     "output_type": "stream",
     "text": [
      "Epoch 1/10\n",
      "1358/1358 [==============================] - 721s 531ms/step - loss: 1.2342 - accuracy: 0.6463 - val_loss: 1.3707 - val_accuracy: 0.6308\n",
      "Epoch 2/10\n",
      "1358/1358 [==============================] - 721s 531ms/step - loss: 1.0914 - accuracy: 0.6794 - val_loss: 1.3324 - val_accuracy: 0.6365\n",
      "Epoch 3/10\n",
      "1358/1358 [==============================] - 718s 528ms/step - loss: 1.0047 - accuracy: 0.7016 - val_loss: 1.2631 - val_accuracy: 0.6524\n",
      "Epoch 4/10\n",
      "1358/1358 [==============================] - 744s 548ms/step - loss: 0.9188 - accuracy: 0.7221 - val_loss: 1.1384 - val_accuracy: 0.6800\n",
      "Epoch 5/10\n",
      "1358/1358 [==============================] - 757s 557ms/step - loss: 0.8562 - accuracy: 0.7408 - val_loss: 1.1583 - val_accuracy: 0.6821\n",
      "Epoch 6/10\n",
      "1358/1358 [==============================] - 795s 585ms/step - loss: 0.8006 - accuracy: 0.7560 - val_loss: 1.1441 - val_accuracy: 0.6898\n",
      "Epoch 7/10\n",
      "1358/1358 [==============================] - 767s 565ms/step - loss: 0.7497 - accuracy: 0.7697 - val_loss: 1.0894 - val_accuracy: 0.6904\n",
      "Epoch 8/10\n",
      "1358/1358 [==============================] - 742s 547ms/step - loss: 0.7078 - accuracy: 0.7810 - val_loss: 1.1230 - val_accuracy: 0.6886\n",
      "Epoch 9/10\n",
      "1358/1358 [==============================] - 735s 541ms/step - loss: 0.6646 - accuracy: 0.7930 - val_loss: 1.0795 - val_accuracy: 0.7021\n",
      "Epoch 10/10\n",
      "1358/1358 [==============================] - 771s 568ms/step - loss: 0.6319 - accuracy: 0.8014 - val_loss: 1.1366 - val_accuracy: 0.6882\n"
     ]
    }
   ],
   "source": [
    "training_history = xception_model.fit(training_set,\n",
    "                                    validation_data=validation_set,\n",
    "                                    epochs=10)"
   ]
  },
  {
   "cell_type": "markdown",
   "id": "68cc75e4-1f81-4019-9de4-c73ed5148a2a",
   "metadata": {},
   "source": [
    "## Evaluating the Model"
   ]
  },
  {
   "cell_type": "code",
   "execution_count": 12,
   "id": "e380f829-1c72-4663-afdf-818c70ae7914",
   "metadata": {},
   "outputs": [
    {
     "data": {
      "image/png": "[encoded data removed]",
      "text/plain": [
       "<Figure size 640x480 with 1 Axes>"
      ]
     },
     "metadata": {},
     "output_type": "display_data"
    }
   ],
   "source": [
    "fig1 = plt.gcf()\n",
    "plt.plot(training_history.history['accuracy'])\n",
    "plt.plot(training_history.history['val_accuracy'])\n",
    "plt.axis(ymin=0.5, ymax=1)\n",
    "plt.grid()\n",
    "plt.title('Model Accuracy')\n",
    "plt.ylabel('Accuracy')\n",
    "plt.xlabel('Epochs')\n",
    "plt.legend(['train', 'validation'])\n",
    "plt.show()"
   ]
  },
  {
   "cell_type": "code",
   "execution_count": 13,
   "id": "7f04229e-ba2c-42ad-a3cc-ce4c34713b36",
   "metadata": {},
   "outputs": [
    {
     "name": "stdout",
     "output_type": "stream",
     "text": [
      "1358/1358 [==============================] - 621s 457ms/step - loss: 0.6932 - accuracy: 0.7802\n",
      "Training accuracy: 0.780153751373291\n"
     ]
    }
   ],
   "source": [
    "train_loss, train_acc = xception_model.evaluate(training_set)\n",
    "print('Training accuracy:', train_acc)"
   ]
  },
  {
   "cell_type": "code",
   "execution_count": 14,
   "id": "bc3ab3c9-ad8d-4855-af03-f12a0f7b4d5d",
   "metadata": {},
   "outputs": [
    {
     "name": "stdout",
     "output_type": "stream",
     "text": [
      "340/340 [==============================] - 148s 436ms/step - loss: 1.1366 - accuracy: 0.6882\n",
      "Validation accuracy: 0.6881502866744995\n"
     ]
    }
   ],
   "source": [
    "val_loss, val_acc = xception_model.evaluate(validation_set)\n",
    "print('Validation accuracy:', val_acc)"
   ]
  },
  {
   "cell_type": "markdown",
   "id": "69bdd1af-4703-4a57-b8a9-af6c12912901",
   "metadata": {},
   "source": [
    "## Saving Model"
   ]
  },
  {
   "cell_type": "code",
   "execution_count": 15,
   "id": "46e6f30c-f743-44ea-b8fe-29223fcc2557",
   "metadata": {},
   "outputs": [],
   "source": [
    "xception_model.save('trained_xception_model.keras')"
   ]
  },
  {
   "cell_type": "code",
   "execution_count": 16,
   "id": "f6749282-cd42-494a-b9fd-b77cbe20db84",
   "metadata": {},
   "outputs": [
    {
     "data": {
      "text/plain": [
       "{'loss': [1.234190583229065,\n",
       "  1.0913645029067993,\n",
       "  1.0046749114990234,\n",
       "  0.9188178181648254,\n",
       "  0.8562048673629761,\n",
       "  0.8005692958831787,\n",
       "  0.7496660351753235,\n",
       "  0.707787275314331,\n",
       "  0.6645786762237549,\n",
       "  0.631908118724823],\n",
       " 'accuracy': [0.6463032960891724,\n",
       "  0.6794493794441223,\n",
       "  0.7016158699989319,\n",
       "  0.7221250534057617,\n",
       "  0.7408157587051392,\n",
       "  0.756007730960846,\n",
       "  0.7697265148162842,\n",
       "  0.7809593677520752,\n",
       "  0.7929518222808838,\n",
       "  0.8014225363731384],\n",
       " 'val_loss': [1.3707082271575928,\n",
       "  1.3324291706085205,\n",
       "  1.2630615234375,\n",
       "  1.1384434700012207,\n",
       "  1.1582868099212646,\n",
       "  1.144141435623169,\n",
       "  1.0893837213516235,\n",
       "  1.1230326890945435,\n",
       "  1.079508662223816,\n",
       "  1.1366257667541504],\n",
       " 'val_accuracy': [0.630789041519165,\n",
       "  0.6364975571632385,\n",
       "  0.6524261236190796,\n",
       "  0.679955780506134,\n",
       "  0.6820734739303589,\n",
       "  0.6898075938224792,\n",
       "  0.6903600096702576,\n",
       "  0.6886106133460999,\n",
       "  0.7020531892776489,\n",
       "  0.6881502866744995]}"
      ]
     },
     "execution_count": 16,
     "metadata": {},
     "output_type": "execute_result"
    }
   ],
   "source": [
    "training_history.history"
   ]
  },
  {
   "cell_type": "code",
   "execution_count": 17,
   "id": "e3e76986-a1d2-4bc1-9d08-c9a20511cff4",
   "metadata": {},
   "outputs": [],
   "source": [
    "#Recording History in jason\n",
    "import json\n",
    "with open(\"training_hist.json\",\"w\")as f:\n",
    "    json.dump(training_history.history,f)"
   ]
  }
 ],
 "metadata": {
  "kernelspec": {
   "display_name": "Python 3 (ipykernel)",
   "language": "python",
   "name": "python3"
  },
  "language_info": {
   "codemirror_mode": {
    "name": "ipython",
    "version": 3
   },
   "file_extension": ".py",
   "mimetype": "text/x-python",
   "name": "python",
   "nbconvert_exporter": "python",
   "pygments_lexer": "ipython3",
   "version": "3.10.13"
  }
 },
 "nbformat": 4,
 "nbformat_minor": 5
}
