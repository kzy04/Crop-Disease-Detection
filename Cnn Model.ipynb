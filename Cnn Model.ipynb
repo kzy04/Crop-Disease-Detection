{
 "cells": [
  {
   "cell_type": "markdown",
   "id": "2025a14d-22ef-4c38-860c-f1a5308651d7",
   "metadata": {},
   "source": [
    "## Importing Libraries"
   ]
  },
  {
   "cell_type": "code",
   "execution_count": 1,
   "id": "ade7865d-1c4f-432c-b15c-b9fe0a33d0ad",
   "metadata": {},
   "outputs": [],
   "source": [
    "import tensorflow as tf\n",
    "import matplotlib.pyplot as plt\n",
    "import pandas as pd\n",
    "import seaborn as sns\n",
    "import numpy as np"
   ]
  },
  {
   "cell_type": "markdown",
   "id": "b5ca7e3c-e6e1-42d1-ac7c-1549451f0124",
   "metadata": {},
   "source": [
    "## Data Preprocessing"
   ]
  },
  {
   "cell_type": "markdown",
   "id": "e64e9e28-0429-41cf-bcc1-cbf8fb20ad52",
   "metadata": {},
   "source": [
    "### Training Image Preprocessing"
   ]
  },
  {
   "cell_type": "code",
   "execution_count": 2,
   "id": "aab0cbbc-4255-44c5-885f-9167f10743da",
   "metadata": {},
   "outputs": [
    {
     "name": "stdout",
     "output_type": "stream",
     "text": [
      "Found 70295 files belonging to 38 classes.\n"
     ]
    }
   ],
   "source": [
    "training_set = tf.keras.utils.image_dataset_from_directory(\n",
    "    'train',\n",
    "    labels=\"inferred\",\n",
    "    label_mode=\"categorical\",\n",
    "    class_names=None,\n",
    "    color_mode=\"rgb\",\n",
    "    batch_size=32,\n",
    "    image_size=(128, 128),\n",
    "    shuffle=True,\n",
    "    seed=None,\n",
    "    validation_split=None,\n",
    "    subset=None,\n",
    "    interpolation=\"bilinear\",\n",
    "    follow_links=False,\n",
    "    crop_to_aspect_ratio=False\n",
    ")"
   ]
  },
  {
   "cell_type": "markdown",
   "id": "552ec824-b2e6-4859-a641-2ab64865fc16",
   "metadata": {},
   "source": [
    "### Validation Image Preprocessing"
   ]
  },
  {
   "cell_type": "code",
   "execution_count": 3,
   "id": "85d47f19-c0d9-4716-8c91-5d911eb0ed92",
   "metadata": {},
   "outputs": [
    {
     "name": "stdout",
     "output_type": "stream",
     "text": [
      "Found 17572 files belonging to 38 classes.\n"
     ]
    }
   ],
   "source": [
    "validation_set = tf.keras.utils.image_dataset_from_directory(\n",
    "    'valid',\n",
    "    labels=\"inferred\",\n",
    "    label_mode=\"categorical\",\n",
    "    class_names=None,\n",
    "    color_mode=\"rgb\",\n",
    "    batch_size=32,\n",
    "    image_size=(128, 128),\n",
    "    shuffle=True,\n",
    "    seed=None,\n",
    "    validation_split=None,\n",
    "    subset=None,\n",
    "    interpolation=\"bilinear\",\n",
    "    follow_links=False,\n",
    "    crop_to_aspect_ratio=False\n",
    ")"
   ]
  },
  {
   "cell_type": "markdown",
   "id": "2d86094b-a151-4c45-9a01-c77fcbf498a0",
   "metadata": {},
   "source": [
    "## Building Model"
   ]
  },
  {
   "cell_type": "code",
   "execution_count": 4,
   "id": "be62de06-045b-4fa8-8050-d31b733d8e1d",
   "metadata": {},
   "outputs": [],
   "source": [
    "model = tf.keras.models.Sequential()"
   ]
  },
  {
   "cell_type": "markdown",
   "id": "cccd761d-6234-4c69-8960-fa954fd0833d",
   "metadata": {},
   "source": [
    "### Convolutional Layers"
   ]
  },
  {
   "cell_type": "code",
   "execution_count": 5,
   "id": "7ef7ebce-49a9-4051-acbc-9c4f6b27b958",
   "metadata": {},
   "outputs": [],
   "source": [
    "model.add(tf.keras.layers.Conv2D(filters=32,kernel_size=3,padding='same',activation='relu',input_shape=[128,128,3]))\n",
    "model.add(tf.keras.layers.Conv2D(filters=32,kernel_size=3,activation='relu'))\n",
    "model.add(tf.keras.layers.MaxPool2D(pool_size=2,strides=2))"
   ]
  },
  {
   "cell_type": "code",
   "execution_count": 6,
   "id": "529cc729-ebd6-4ba3-9b2d-3edf27720892",
   "metadata": {},
   "outputs": [],
   "source": [
    "model.add(tf.keras.layers.Conv2D(filters=64,kernel_size=3,padding='same',activation='relu'))\n",
    "model.add(tf.keras.layers.Conv2D(filters=64,kernel_size=3,activation='relu'))\n",
    "model.add(tf.keras.layers.MaxPool2D(pool_size=2,strides=2))"
   ]
  },
  {
   "cell_type": "code",
   "execution_count": 7,
   "id": "d0b70cfa-cdfd-4e37-9297-e85554df4315",
   "metadata": {},
   "outputs": [],
   "source": [
    "model.add(tf.keras.layers.Conv2D(filters=128,kernel_size=3,padding='same',activation='relu'))\n",
    "model.add(tf.keras.layers.Conv2D(filters=128,kernel_size=3,activation='relu'))\n",
    "model.add(tf.keras.layers.MaxPool2D(pool_size=2,strides=2))"
   ]
  },
  {
   "cell_type": "code",
   "execution_count": 8,
   "id": "982d5da7-4ab7-4c7d-853d-39818888dd24",
   "metadata": {},
   "outputs": [],
   "source": [
    "model.add(tf.keras.layers.Conv2D(filters=256,kernel_size=3,padding='same',activation='relu'))\n",
    "model.add(tf.keras.layers.Conv2D(filters=256,kernel_size=3,activation='relu'))\n",
    "model.add(tf.keras.layers.MaxPool2D(pool_size=2,strides=2))"
   ]
  },
  {
   "cell_type": "code",
   "execution_count": 9,
   "id": "0124ad35-f2df-44d9-8564-d7840324ea4d",
   "metadata": {},
   "outputs": [],
   "source": [
    "model.add(tf.keras.layers.Conv2D(filters=512,kernel_size=3,padding='same',activation='relu'))\n",
    "model.add(tf.keras.layers.Conv2D(filters=512,kernel_size=3,activation='relu'))\n",
    "model.add(tf.keras.layers.MaxPool2D(pool_size=2,strides=2))"
   ]
  },
  {
   "cell_type": "code",
   "execution_count": 10,
   "id": "c0a01fb6-da8f-4930-8d09-7074ce723633",
   "metadata": {},
   "outputs": [],
   "source": [
    "model.add(tf.keras.layers.Dropout(0.25))"
   ]
  },
  {
   "cell_type": "code",
   "execution_count": 11,
   "id": "8146c0a1-c218-467d-bb4b-0bff327ca00b",
   "metadata": {},
   "outputs": [],
   "source": [
    "model.add(tf.keras.layers.Flatten())"
   ]
  },
  {
   "cell_type": "code",
   "execution_count": 12,
   "id": "cea06e82-56bf-444a-a541-86cfa676054c",
   "metadata": {},
   "outputs": [],
   "source": [
    "model.add(tf.keras.layers.Dense(units=1500,activation='relu'))"
   ]
  },
  {
   "cell_type": "code",
   "execution_count": 13,
   "id": "1f824b08-578e-46a1-9406-08264f21e8a2",
   "metadata": {},
   "outputs": [],
   "source": [
    "model.add(tf.keras.layers.Dropout(0.4)) #To avoid overfitting"
   ]
  },
  {
   "cell_type": "code",
   "execution_count": 14,
   "id": "42466a32-b3e2-4be3-a45d-00fecb6ea741",
   "metadata": {},
   "outputs": [],
   "source": [
    "#Output Layer\n",
    "model.add(tf.keras.layers.Dense(units=38,activation='softmax'))"
   ]
  },
  {
   "cell_type": "markdown",
   "id": "cc46b0c9-ccae-43f1-9fb2-9a05842bf37f",
   "metadata": {},
   "source": [
    "### Compiling and Training Phase"
   ]
  },
  {
   "cell_type": "code",
   "execution_count": 15,
   "id": "b7947915-b458-49e6-9103-e7c12922b1d9",
   "metadata": {},
   "outputs": [],
   "source": [
    "model.compile(optimizer=tf.keras.optimizers.legacy.Adam(\n",
    "    learning_rate=0.0001),loss='categorical_crossentropy',metrics=['accuracy'])"
   ]
  },
  {
   "cell_type": "code",
   "execution_count": 16,
   "id": "fc82866f-fa38-4528-b25d-0fcf20db1249",
   "metadata": {},
   "outputs": [
    {
     "name": "stdout",
     "output_type": "stream",
     "text": [
      "Model: \"sequential\"\n",
      "_________________________________________________________________\n",
      " Layer (type)                Output Shape              Param #   \n",
      "=================================================================\n",
      " conv2d (Conv2D)             (None, 128, 128, 32)      896       \n",
      "                                                                 \n",
      " conv2d_1 (Conv2D)           (None, 126, 126, 32)      9248      \n",
      "                                                                 \n",
      " max_pooling2d (MaxPooling2D  (None, 63, 63, 32)       0         \n",
      " )                                                               \n",
      "                                                                 \n",
      " conv2d_2 (Conv2D)           (None, 63, 63, 64)        18496     \n",
      "                                                                 \n",
      " conv2d_3 (Conv2D)           (None, 61, 61, 64)        36928     \n",
      "                                                                 \n",
      " max_pooling2d_1 (MaxPooling  (None, 30, 30, 64)       0         \n",
      " 2D)                                                             \n",
      "                                                                 \n",
      " conv2d_4 (Conv2D)           (None, 30, 30, 128)       73856     \n",
      "                                                                 \n",
      " conv2d_5 (Conv2D)           (None, 28, 28, 128)       147584    \n",
      "                                                                 \n",
      " max_pooling2d_2 (MaxPooling  (None, 14, 14, 128)      0         \n",
      " 2D)                                                             \n",
      "                                                                 \n",
      " conv2d_6 (Conv2D)           (None, 14, 14, 256)       295168    \n",
      "                                                                 \n",
      " conv2d_7 (Conv2D)           (None, 12, 12, 256)       590080    \n",
      "                                                                 \n",
      " max_pooling2d_3 (MaxPooling  (None, 6, 6, 256)        0         \n",
      " 2D)                                                             \n",
      "                                                                 \n",
      " conv2d_8 (Conv2D)           (None, 6, 6, 512)         1180160   \n",
      "                                                                 \n",
      " conv2d_9 (Conv2D)           (None, 4, 4, 512)         2359808   \n",
      "                                                                 \n",
      " max_pooling2d_4 (MaxPooling  (None, 2, 2, 512)        0         \n",
      " 2D)                                                             \n",
      "                                                                 \n",
      " dropout (Dropout)           (None, 2, 2, 512)         0         \n",
      "                                                                 \n",
      " flatten (Flatten)           (None, 2048)              0         \n",
      "                                                                 \n",
      " dense (Dense)               (None, 1500)              3073500   \n",
      "                                                                 \n",
      " dropout_1 (Dropout)         (None, 1500)              0         \n",
      "                                                                 \n",
      " dense_1 (Dense)             (None, 38)                57038     \n",
      "                                                                 \n",
      "=================================================================\n",
      "Total params: 7,842,762\n",
      "Trainable params: 7,842,762\n",
      "Non-trainable params: 0\n",
      "_________________________________________________________________\n"
     ]
    }
   ],
   "source": [
    "model.summary()"
   ]
  },
  {
   "cell_type": "code",
   "execution_count": 17,
   "id": "b331aa00-62ec-4684-8d2b-c2ee891a71fb",
   "metadata": {},
   "outputs": [
    {
     "name": "stdout",
     "output_type": "stream",
     "text": [
      "Epoch 1/10\n",
      "2197/2197 [==============================] - 1218s 554ms/step - loss: 1.3204 - accuracy: 0.6112 - val_loss: 0.5838 - val_accuracy: 0.8137\n",
      "Epoch 2/10\n",
      "2197/2197 [==============================] - 1215s 553ms/step - loss: 0.4302 - accuracy: 0.8639 - val_loss: 0.2303 - val_accuracy: 0.9239\n",
      "Epoch 3/10\n",
      "2197/2197 [==============================] - 1216s 553ms/step - loss: 0.2529 - accuracy: 0.9172 - val_loss: 0.2225 - val_accuracy: 0.9269\n",
      "Epoch 4/10\n",
      "2197/2197 [==============================] - 1221s 556ms/step - loss: 0.1714 - accuracy: 0.9445 - val_loss: 0.1632 - val_accuracy: 0.9490\n",
      "Epoch 5/10\n",
      "2197/2197 [==============================] - 1221s 556ms/step - loss: 0.1283 - accuracy: 0.9584 - val_loss: 0.1379 - val_accuracy: 0.9574\n",
      "Epoch 6/10\n",
      "2197/2197 [==============================] - 1215s 553ms/step - loss: 0.1022 - accuracy: 0.9668 - val_loss: 0.1919 - val_accuracy: 0.9394\n",
      "Epoch 7/10\n",
      "2197/2197 [==============================] - 1213s 552ms/step - loss: 0.0813 - accuracy: 0.9734 - val_loss: 0.1100 - val_accuracy: 0.9646\n",
      "Epoch 8/10\n",
      "2197/2197 [==============================] - 1212s 552ms/step - loss: 0.0681 - accuracy: 0.9784 - val_loss: 0.1313 - val_accuracy: 0.9609\n",
      "Epoch 9/10\n",
      "2197/2197 [==============================] - 1215s 553ms/step - loss: 0.0609 - accuracy: 0.9803 - val_loss: 0.1430 - val_accuracy: 0.9576\n",
      "Epoch 10/10\n",
      "2197/2197 [==============================] - 1215s 553ms/step - loss: 0.0515 - accuracy: 0.9835 - val_loss: 0.1409 - val_accuracy: 0.9601\n"
     ]
    }
   ],
   "source": [
    "training_history = model.fit(x=training_set,validation_data=validation_set,epochs=10)"
   ]
  },
  {
   "cell_type": "markdown",
   "id": "e48f08cd-c72e-4648-abbb-3dba92d0b5de",
   "metadata": {},
   "source": [
    "## Evaluating Model"
   ]
  },
  {
   "cell_type": "code",
   "execution_count": 18,
   "id": "900ce6f0-eae2-476b-ba8f-a19c1fdb42da",
   "metadata": {},
   "outputs": [
    {
     "name": "stdout",
     "output_type": "stream",
     "text": [
      "2197/2197 [==============================] - 296s 135ms/step - loss: 0.0429 - accuracy: 0.9859\n",
      "Training accuracy: 0.9859164953231812\n"
     ]
    }
   ],
   "source": [
    "#Training set Accuracy\n",
    "train_loss, train_acc = model.evaluate(training_set)\n",
    "print('Training accuracy:', train_acc)"
   ]
  },
  {
   "cell_type": "code",
   "execution_count": 19,
   "id": "3cfc2bfb-aa76-4625-a2c2-5e63a5ed2129",
   "metadata": {},
   "outputs": [
    {
     "name": "stdout",
     "output_type": "stream",
     "text": [
      "550/550 [==============================] - 93s 168ms/step - loss: 0.1409 - accuracy: 0.9601\n",
      "Validation accuracy: 0.960050106048584\n"
     ]
    }
   ],
   "source": [
    "#Validation set Accuracy\n",
    "val_loss, val_acc = model.evaluate(validation_set)\n",
    "print('Validation accuracy:', val_acc)"
   ]
  },
  {
   "cell_type": "markdown",
   "id": "e57ae892-072b-471d-84ae-7b9f7ec52f15",
   "metadata": {},
   "source": [
    "## Saving Model"
   ]
  },
  {
   "cell_type": "code",
   "execution_count": 20,
   "id": "e7e1db11-8475-43e5-b144-b84e95fb617b",
   "metadata": {},
   "outputs": [],
   "source": [
    "model.save('trained_plant_disease_model_2.keras')"
   ]
  },
  {
   "cell_type": "code",
   "execution_count": 21,
   "id": "e2624e26-ee44-4793-a934-b74c2e4792d1",
   "metadata": {},
   "outputs": [
    {
     "data": {
      "text/plain": [
       "{'loss': [1.320373296737671,\n",
       "  0.4302022159099579,\n",
       "  0.25294944643974304,\n",
       "  0.17137645184993744,\n",
       "  0.12834975123405457,\n",
       "  0.10221907496452332,\n",
       "  0.0813165083527565,\n",
       "  0.06808602064847946,\n",
       "  0.06090088561177254,\n",
       "  0.0514775775372982],\n",
       " 'accuracy': [0.6111956834793091,\n",
       "  0.8639305830001831,\n",
       "  0.9171633720397949,\n",
       "  0.9444625973701477,\n",
       "  0.9583612084388733,\n",
       "  0.9667970538139343,\n",
       "  0.9733693599700928,\n",
       "  0.9783910512924194,\n",
       "  0.9802688956260681,\n",
       "  0.9834980964660645],\n",
       " 'val_loss': [0.5838001370429993,\n",
       "  0.2303195595741272,\n",
       "  0.22253113985061646,\n",
       "  0.16318386793136597,\n",
       "  0.13794147968292236,\n",
       "  0.19189105927944183,\n",
       "  0.1100466176867485,\n",
       "  0.13129034638404846,\n",
       "  0.14296142756938934,\n",
       "  0.14088496565818787],\n",
       " 'val_accuracy': [0.8137377500534058,\n",
       "  0.9238561391830444,\n",
       "  0.9268723130226135,\n",
       "  0.948952853679657,\n",
       "  0.9573753476142883,\n",
       "  0.9394491314888,\n",
       "  0.9646027684211731,\n",
       "  0.9609037041664124,\n",
       "  0.9576029777526855,\n",
       "  0.960050106048584]}"
      ]
     },
     "execution_count": 21,
     "metadata": {},
     "output_type": "execute_result"
    }
   ],
   "source": [
    "training_history.history #Return Dictionary of history"
   ]
  },
  {
   "cell_type": "code",
   "execution_count": 22,
   "id": "01ca4dc2-00d6-4202-81e9-629b91287de8",
   "metadata": {},
   "outputs": [],
   "source": [
    "#Recording History in json\n",
    "import json\n",
    "with open('training_hist.json','w') as f:\n",
    "  json.dump(training_history.history,f)"
   ]
  },
  {
   "cell_type": "code",
   "execution_count": 23,
   "id": "9b9245b4-34dc-484a-82bc-96ad292bab6f",
   "metadata": {},
   "outputs": [
    {
     "name": "stdout",
     "output_type": "stream",
     "text": [
      "dict_keys(['loss', 'accuracy', 'val_loss', 'val_accuracy'])\n"
     ]
    }
   ],
   "source": [
    "print(training_history.history.keys())"
   ]
  },
  {
   "cell_type": "markdown",
   "id": "13190e7c-b6c2-4082-a322-449c5c16574f",
   "metadata": {},
   "source": [
    "## Accuracy Visualization"
   ]
  },
  {
   "cell_type": "code",
   "execution_count": 24,
   "id": "ed7df332-622d-4245-870f-874b43178b41",
   "metadata": {},
   "outputs": [
    {
     "data": {
      "image/png": "[encoded data removed]",
      "text/plain": [
       "<Figure size 640x480 with 1 Axes>"
      ]
     },
     "metadata": {},
     "output_type": "display_data"
    }
   ],
   "source": [
    "epochs = [i for i in range(1,11)]\n",
    "plt.plot(epochs,training_history.history['accuracy'],color='red',label='Training Accuracy')\n",
    "plt.plot(epochs,training_history.history['val_accuracy'],color='blue',label='Validation Accuracy')\n",
    "plt.xlabel('No. of Epochs')\n",
    "plt.title('Visualization of Accuracy Result')\n",
    "plt.legend()\n",
    "plt.show()"
   ]
  }
 ],
 "metadata": {
  "kernelspec": {
   "display_name": "Python 3 (ipykernel)",
   "language": "python",
   "name": "python3"
  },
  "language_info": {
   "codemirror_mode": {
    "name": "ipython",
    "version": 3
   },
   "file_extension": ".py",
   "mimetype": "text/x-python",
   "name": "python",
   "nbconvert_exporter": "python",
   "pygments_lexer": "ipython3",
   "version": "3.10.13"
  }
 },
 "nbformat": 4,
 "nbformat_minor": 5
}
