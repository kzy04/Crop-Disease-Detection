{
 "cells": [
  {
   "cell_type": "code",
   "execution_count": 5,
   "id": "01cb42b6-46dd-461c-9ca2-da8a63ea2029",
   "metadata": {},
   "outputs": [],
   "source": [
    "import matplotlib.pyplot as plt\n",
    "import numpy as np\n",
    "import os\n",
    "import PIL\n",
    "import tensorflow as tf\n",
    "from tensorflow import keras\n",
    "from tensorflow.keras import layers\n",
    "from tensorflow.python.keras.layers import Dense, Flatten\n",
    "from tensorflow.keras.models import Sequential\n",
    "from tensorflow.keras.optimizers import Adam"
   ]
  },
  {
   "cell_type": "code",
   "execution_count": 22,
   "id": "9b218e86-c8e7-4857-b564-72c773c2fa98",
   "metadata": {},
   "outputs": [
    {
     "name": "stdout",
     "output_type": "stream",
     "text": [
      "Found 54305 files belonging to 38 classes.\n",
      "Using 43444 files for training.\n"
     ]
    }
   ],
   "source": [
    "training_set = tf.keras.utils.image_dataset_from_directory(\n",
    "    'color',\n",
    "    labels=\"inferred\",\n",
    "    label_mode=\"categorical\",\n",
    "    class_names=None,\n",
    "    color_mode=\"rgb\",\n",
    "    batch_size=32,\n",
    "    image_size=(128, 128),\n",
    "    shuffle=True,\n",
    "    seed=200,\n",
    "    validation_split=0.2,  # Keep for data split during loading\n",
    "    subset=\"training\"\n",
    ")"
   ]
  },
  {
   "cell_type": "code",
   "execution_count": 23,
   "id": "6d47e8a3-e0e9-4faa-bcf1-a67b974ee6fa",
   "metadata": {},
   "outputs": [
    {
     "name": "stdout",
     "output_type": "stream",
     "text": [
      "Found 54305 files belonging to 38 classes.\n",
      "Using 10861 files for validation.\n"
     ]
    }
   ],
   "source": [
    "validation_set = tf.keras.utils.image_dataset_from_directory(\n",
    "    'color',\n",
    "    labels=\"inferred\",\n",
    "    label_mode=\"categorical\",\n",
    "    class_names=None,\n",
    "    color_mode=\"rgb\",\n",
    "    batch_size=32,\n",
    "    image_size=(128, 128),\n",
    "    shuffle=True,\n",
    "    seed=200,\n",
    "    validation_split=0.2,  # Keep for data split during loading\n",
    "    subset=\"validation\"\n",
    ")"
   ]
  },
  {
   "cell_type": "code",
   "execution_count": 24,
   "id": "f653b3c3-7df4-4b8d-b7c3-3fafd919969d",
   "metadata": {},
   "outputs": [
    {
     "name": "stdout",
     "output_type": "stream",
     "text": [
      "['Apple___Apple_scab', 'Apple___Black_rot', 'Apple___Cedar_apple_rust', 'Apple___healthy', 'Blueberry___healthy', 'Cherry_(including_sour)___Powdery_mildew', 'Cherry_(including_sour)___healthy', 'Corn_(maize)___Cercospora_leaf_spot Gray_leaf_spot', 'Corn_(maize)___Common_rust_', 'Corn_(maize)___Northern_Leaf_Blight', 'Corn_(maize)___healthy', 'Grape___Black_rot', 'Grape___Esca_(Black_Measles)', 'Grape___Leaf_blight_(Isariopsis_Leaf_Spot)', 'Grape___healthy', 'Orange___Haunglongbing_(Citrus_greening)', 'Peach___Bacterial_spot', 'Peach___healthy', 'Pepper,_bell___Bacterial_spot', 'Pepper,_bell___healthy', 'Potato___Early_blight', 'Potato___Late_blight', 'Potato___healthy', 'Raspberry___healthy', 'Soybean___healthy', 'Squash___Powdery_mildew', 'Strawberry___Leaf_scorch', 'Strawberry___healthy', 'Tomato___Bacterial_spot', 'Tomato___Early_blight', 'Tomato___Late_blight', 'Tomato___Leaf_Mold', 'Tomato___Septoria_leaf_spot', 'Tomato___Spider_mites Two-spotted_spider_mite', 'Tomato___Target_Spot', 'Tomato___Tomato_Yellow_Leaf_Curl_Virus', 'Tomato___Tomato_mosaic_virus', 'Tomato___healthy']\n"
     ]
    }
   ],
   "source": [
    "print(training_set.class_names)"
   ]
  },
  {
   "cell_type": "code",
   "execution_count": 27,
   "id": "357979b1-97ef-49f8-a3e1-3d745da06f9c",
   "metadata": {},
   "outputs": [
    {
     "name": "stdout",
     "output_type": "stream",
     "text": [
      "['Apple___Apple_scab', 'Apple___Black_rot', 'Apple___Cedar_apple_rust', 'Apple___healthy', 'Blueberry___healthy', 'Cherry_(including_sour)___Powdery_mildew', 'Cherry_(including_sour)___healthy', 'Corn_(maize)___Cercospora_leaf_spot Gray_leaf_spot', 'Corn_(maize)___Common_rust_', 'Corn_(maize)___Northern_Leaf_Blight', 'Corn_(maize)___healthy', 'Grape___Black_rot', 'Grape___Esca_(Black_Measles)', 'Grape___Leaf_blight_(Isariopsis_Leaf_Spot)', 'Grape___healthy', 'Orange___Haunglongbing_(Citrus_greening)', 'Peach___Bacterial_spot', 'Peach___healthy', 'Pepper,_bell___Bacterial_spot', 'Pepper,_bell___healthy', 'Potato___Early_blight', 'Potato___Late_blight', 'Potato___healthy', 'Raspberry___healthy', 'Soybean___healthy', 'Squash___Powdery_mildew', 'Strawberry___Leaf_scorch', 'Strawberry___healthy', 'Tomato___Bacterial_spot', 'Tomato___Early_blight', 'Tomato___Late_blight', 'Tomato___Leaf_Mold', 'Tomato___Septoria_leaf_spot', 'Tomato___Spider_mites Two-spotted_spider_mite', 'Tomato___Target_Spot', 'Tomato___Tomato_Yellow_Leaf_Curl_Virus', 'Tomato___Tomato_mosaic_virus', 'Tomato___healthy']\n"
     ]
    }
   ],
   "source": [
    "print(validation_set.class_names)"
   ]
  },
  {
   "cell_type": "markdown",
   "id": "00b230e1-b898-43d1-8f8c-995ff5637674",
   "metadata": {},
   "source": [
    "## Model Building"
   ]
  },
  {
   "cell_type": "code",
   "execution_count": 41,
   "id": "19bc154b-72fb-4047-96c9-13f05bebffd4",
   "metadata": {},
   "outputs": [],
   "source": [
    "resnet_model = tf.keras.models.Sequential()\n",
    "pretrained_model = tf.keras.applications.ResNet50(\n",
    "    include_top=False,\n",
    "    weights=\"imagenet\",\n",
    "    input_shape=(128,128,3),\n",
    "    pooling=\"avg\",\n",
    "    classes=38,\n",
    ")\n",
    "for layer in pretrained_model.layers:\n",
    "    layer.trainable = False\n",
    "\n",
    "resnet_model.add(pretrained_model)\n",
    "resnet_model.add(tf.keras.layers.Flatten())\n",
    "resnet_model.add(tf.keras.layers.Dense(512, activation=\"relu\"))\n",
    "resnet_model.add(tf.keras.layers.Dense(units=38, activation=\"softmax\"))    "
   ]
  },
  {
   "cell_type": "code",
   "execution_count": 42,
   "id": "0b4a260f-3d6c-444f-9044-98b0383283ab",
   "metadata": {},
   "outputs": [
    {
     "name": "stdout",
     "output_type": "stream",
     "text": [
      "Model: \"sequential_5\"\n",
      "_________________________________________________________________\n",
      " Layer (type)                Output Shape              Param #   \n",
      "=================================================================\n",
      " resnet50 (Functional)       (None, 2048)              23587712  \n",
      "                                                                 \n",
      " flatten_3 (Flatten)         (None, 2048)              0         \n",
      "                                                                 \n",
      " dense_6 (Dense)             (None, 512)               1049088   \n",
      "                                                                 \n",
      " dense_7 (Dense)             (None, 38)                19494     \n",
      "                                                                 \n",
      "=================================================================\n",
      "Total params: 24,656,294\n",
      "Trainable params: 1,068,582\n",
      "Non-trainable params: 23,587,712\n",
      "_________________________________________________________________\n"
     ]
    }
   ],
   "source": [
    "resnet_model.summary()"
   ]
  },
  {
   "cell_type": "code",
   "execution_count": 43,
   "id": "f1ad8d89-5ec8-4feb-b689-544a163a209c",
   "metadata": {},
   "outputs": [],
   "source": [
    "resnet_model.compile(optimizer=tf.keras.optimizers.legacy.Adam(\n",
    "    learning_rate=0.0001),loss='categorical_crossentropy',metrics=['accuracy'])"
   ]
  },
  {
   "cell_type": "code",
   "execution_count": 44,
   "id": "f2644148-147f-4921-abe1-9f6b77df3ffb",
   "metadata": {},
   "outputs": [
    {
     "name": "stdout",
     "output_type": "stream",
     "text": [
      "Epoch 1/10\n",
      "1358/1358 [==============================] - 587s 430ms/step - loss: 0.5280 - accuracy: 0.8608 - val_loss: 0.2345 - val_accuracy: 0.9294\n",
      "Epoch 2/10\n",
      "1358/1358 [==============================] - 551s 406ms/step - loss: 0.1631 - accuracy: 0.9514 - val_loss: 0.1667 - val_accuracy: 0.9473\n",
      "Epoch 3/10\n",
      "1358/1358 [==============================] - 546s 402ms/step - loss: 0.1070 - accuracy: 0.9681 - val_loss: 0.1379 - val_accuracy: 0.9549\n",
      "Epoch 4/10\n",
      "1358/1358 [==============================] - 545s 401ms/step - loss: 0.0759 - accuracy: 0.9789 - val_loss: 0.1288 - val_accuracy: 0.9595\n",
      "Epoch 5/10\n",
      "1358/1358 [==============================] - 545s 401ms/step - loss: 0.0561 - accuracy: 0.9853 - val_loss: 0.1217 - val_accuracy: 0.9608\n",
      "Epoch 6/10\n",
      "1358/1358 [==============================] - 544s 401ms/step - loss: 0.0424 - accuracy: 0.9898 - val_loss: 0.1309 - val_accuracy: 0.9591\n",
      "Epoch 7/10\n",
      "1358/1358 [==============================] - 543s 400ms/step - loss: 0.0330 - accuracy: 0.9925 - val_loss: 0.1233 - val_accuracy: 0.9618\n",
      "Epoch 8/10\n",
      "1358/1358 [==============================] - 542s 399ms/step - loss: 0.0261 - accuracy: 0.9939 - val_loss: 0.1196 - val_accuracy: 0.9615\n",
      "Epoch 9/10\n",
      "1358/1358 [==============================] - 546s 402ms/step - loss: 0.0201 - accuracy: 0.9959 - val_loss: 0.1247 - val_accuracy: 0.9599\n",
      "Epoch 10/10\n",
      "1358/1358 [==============================] - 548s 404ms/step - loss: 0.0156 - accuracy: 0.9972 - val_loss: 0.1103 - val_accuracy: 0.9658\n"
     ]
    }
   ],
   "source": [
    "training_history = resnet_model.fit(training_set,\n",
    "                                    validation_data=validation_set,\n",
    "                                    epochs=10)"
   ]
  },
  {
   "cell_type": "markdown",
   "id": "2dd95ae9-2a0a-4656-b8ca-6b0ab788da66",
   "metadata": {},
   "source": [
    "## Evaluating the Model"
   ]
  },
  {
   "cell_type": "code",
   "execution_count": 46,
   "id": "16c3b205-5197-40cc-bbfa-ae1d410f7d38",
   "metadata": {},
   "outputs": [
    {
     "data": {
      "image/png": "[encoded data removed]",
      "text/plain": [
       "<Figure size 640x480 with 1 Axes>"
      ]
     },
     "metadata": {},
     "output_type": "display_data"
    }
   ],
   "source": [
    "fig1 = plt.gcf()\n",
    "plt.plot(training_history.history['accuracy'])\n",
    "plt.plot(training_history.history['val_accuracy'])\n",
    "plt.axis(ymin=0.5, ymax=1)\n",
    "plt.grid()\n",
    "plt.title('Model Accuracy')\n",
    "plt.ylabel('Accuracy')\n",
    "plt.xlabel('Epochs')\n",
    "plt.legend(['train', 'validation'])\n",
    "plt.show()"
   ]
  },
  {
   "cell_type": "code",
   "execution_count": 47,
   "id": "c9ac3f0d-47fe-4c6e-8b4a-ecefd04474d5",
   "metadata": {},
   "outputs": [
    {
     "name": "stdout",
     "output_type": "stream",
     "text": [
      "1358/1358 [==============================] - 467s 344ms/step - loss: 0.0148 - accuracy: 0.9966\n",
      "Training accuracy: 0.9966393709182739\n"
     ]
    }
   ],
   "source": [
    "train_loss, train_acc = resnet_model.evaluate(training_set)\n",
    "print('Training accuracy:', train_acc)"
   ]
  },
  {
   "cell_type": "code",
   "execution_count": 48,
   "id": "cac85a1d-3be0-4b4c-b018-4e97c77fe839",
   "metadata": {},
   "outputs": [
    {
     "name": "stdout",
     "output_type": "stream",
     "text": [
      "340/340 [==============================] - 116s 342ms/step - loss: 0.1103 - accuracy: 0.9658\n",
      "Validation accuracy: 0.9658410549163818\n"
     ]
    }
   ],
   "source": [
    "val_loss, val_acc = resnet_model.evaluate(validation_set)\n",
    "print('Validation accuracy:', val_acc)"
   ]
  },
  {
   "cell_type": "markdown",
   "id": "1c6041b5-9698-4105-9c6f-9c24d510ca9f",
   "metadata": {},
   "source": [
    "## Saving Model"
   ]
  },
  {
   "cell_type": "code",
   "execution_count": 49,
   "id": "cf6fded8-52e7-438f-af31-6ca96c8c8842",
   "metadata": {},
   "outputs": [],
   "source": [
    "resnet_model.save('trained_resnet_model.keras')"
   ]
  },
  {
   "cell_type": "code",
   "execution_count": 50,
   "id": "2d22eb4c-2951-4a35-a14e-21a9307bc27d",
   "metadata": {},
   "outputs": [
    {
     "data": {
      "text/plain": [
       "{'loss': [0.5280090570449829,\n",
       "  0.16313119232654572,\n",
       "  0.10699963569641113,\n",
       "  0.07588455080986023,\n",
       "  0.05613650009036064,\n",
       "  0.04242448881268501,\n",
       "  0.03304017707705498,\n",
       "  0.02614191733300686,\n",
       "  0.02009565941989422,\n",
       "  0.01563899777829647],\n",
       " 'accuracy': [0.860809326171875,\n",
       "  0.951362669467926,\n",
       "  0.968073844909668,\n",
       "  0.9789153933525085,\n",
       "  0.9852914214134216,\n",
       "  0.9897569417953491,\n",
       "  0.9924960732460022,\n",
       "  0.9939462542533875,\n",
       "  0.995856761932373,\n",
       "  0.997168779373169],\n",
       " 'val_loss': [0.23450995981693268,\n",
       "  0.16665257513523102,\n",
       "  0.13793613016605377,\n",
       "  0.12875057756900787,\n",
       "  0.12168049812316895,\n",
       "  0.13093262910842896,\n",
       "  0.12329088151454926,\n",
       "  0.11963184922933578,\n",
       "  0.12470398843288422,\n",
       "  0.11031469702720642],\n",
       " 'val_accuracy': [0.9293803572654724,\n",
       "  0.9473345279693604,\n",
       "  0.9548844695091248,\n",
       "  0.9594880938529968,\n",
       "  0.9607771039009094,\n",
       "  0.9591197967529297,\n",
       "  0.9617899060249329,\n",
       "  0.9615136981010437,\n",
       "  0.959856390953064,\n",
       "  0.9658410549163818]}"
      ]
     },
     "execution_count": 50,
     "metadata": {},
     "output_type": "execute_result"
    }
   ],
   "source": [
    "training_history.history"
   ]
  },
  {
   "cell_type": "code",
   "execution_count": 53,
   "id": "eca67794-e562-4eac-bde0-5e0f2def6359",
   "metadata": {},
   "outputs": [],
   "source": [
    "#Recording History in jason\n",
    "import json\n",
    "with open(\"training_hist.json\",\"w\")as f:\n",
    "    json.dump(training_history.history,f)"
   ]
  },
  {
   "cell_type": "code",
   "execution_count": null,
   "id": "228b67c6-c689-48df-ba79-219b4eaf7dde",
   "metadata": {},
   "outputs": [],
   "source": []
  }
 ],
 "metadata": {
  "kernelspec": {
   "display_name": "Python 3 (ipykernel)",
   "language": "python",
   "name": "python3"
  },
  "language_info": {
   "codemirror_mode": {
    "name": "ipython",
    "version": 3
   },
   "file_extension": ".py",
   "mimetype": "text/x-python",
   "name": "python",
   "nbconvert_exporter": "python",
   "pygments_lexer": "ipython3",
   "version": "3.10.13"
  }
 },
 "nbformat": 4,
 "nbformat_minor": 5
}
